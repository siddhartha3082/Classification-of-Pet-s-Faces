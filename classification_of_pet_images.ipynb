{
  "nbformat": 4,
  "nbformat_minor": 0,
  "metadata": {
    "colab": {
      "provenance": []
    },
    "kernelspec": {
      "name": "python3",
      "display_name": "Python 3"
    },
    "language_info": {
      "name": "python"
    }
  },
  "cells": [
    {
      "cell_type": "code",
      "execution_count": null,
      "metadata": {
        "id": "0gnlX7dsl4Of"
      },
      "outputs": [],
      "source": [
        "import numpy as np\n",
        "import pandas as pd\n",
        "import matplotlib.pyplot as plt\n",
        "import matplotlib.image as image\n",
        "import glob\n",
        "import os\n",
        "import cv2"
      ]
    },
    {
      "cell_type": "code",
      "source": [
        "images_fp=\"/content/drive/MyDrive/images/\"\n",
        "image_names=[]"
      ],
      "metadata": {
        "id": "KGi35zzYVvXI"
      },
      "execution_count": null,
      "outputs": []
    },
    {
      "cell_type": "code",
      "source": [
        "image_names=[os.path.basename(file) for file in glob.glob(os.path.join(images_fp,\"*.jpg\"))]"
      ],
      "metadata": {
        "id": "FlfM8HhfV_4y"
      },
      "execution_count": null,
      "outputs": []
    },
    {
      "cell_type": "code",
      "source": [
        "image_names"
      ],
      "metadata": {
        "id": "RgmWYKVeWmpo"
      },
      "execution_count": null,
      "outputs": []
    },
    {
      "cell_type": "code",
      "source": [
        "labels=[' '.join(name.split('_')[:-1:])for name in image_names]"
      ],
      "metadata": {
        "id": "pDLchXelXb-V"
      },
      "execution_count": null,
      "outputs": []
    },
    {
      "cell_type": "code",
      "source": [
        "labels"
      ],
      "metadata": {
        "id": "FqTmJtHLXvT2"
      },
      "execution_count": null,
      "outputs": []
    },
    {
      "cell_type": "code",
      "source": [
        "def label_encode(label):\n",
        "   if label == \"Abyssinian\": return 0\n",
        "   elif label ==\"Bengal\":return 1\n",
        "   elif label ==\"Birman\":return 2\n",
        "   elif label ==\"Bombay\":return 3\n",
        "   elif label ==\"British Shorthair\":return 4\n",
        "   elif label ==\"Egyptian Mau\":return 5\n",
        "   elif label == \"american bulldog\":return 6\n",
        "   elif label ==\"american pit bull terrier\":return 7\n",
        "   elif label ==\"basset hound\":return 8\n",
        "   elif label ==\"beagle\":return 9\n",
        "   elif label ==\"boxer\":return 10\n",
        "   elif label ==\"chihuahua\":return 11\n",
        "   elif label ==\"english cocker spaniel\":return 12\n",
        "   elif label ==\"english setter\":return 13\n",
        "   elif label ==\"german shorthaired\":return 14\n",
        "   elif label ==\"great pyrenees\":return 15"
      ],
      "metadata": {
        "id": "YxN5EH6LXxL0"
      },
      "execution_count": null,
      "outputs": []
    },
    {
      "cell_type": "code",
      "source": [
        "import tensorflow as tf\n",
        "from tensorflow.keras.preprocessing.image import load_img,img_to_array"
      ],
      "metadata": {
        "id": "E6O_L5cDZE_u"
      },
      "execution_count": null,
      "outputs": []
    },
    {
      "cell_type": "code",
      "source": [
        "features=[]\n",
        "labels=[]\n",
        "image_size=(224,224)\n",
        "for name in image_names:\n",
        "  label=' '.join(name.split('_')[:-1:])\n",
        "  label_encoded=label_encode(label)\n",
        "  if label_encoded !=None:\n",
        "    img=load_img(os.path.join(images_fp,name))\n",
        "    img=tf.image.resize_with_pad(img_to_array(img,dtype='uint8'),*image_size).numpy().astype('uint8')\n",
        "    image = np.array(img)\n",
        "    features.append(image)\n",
        "    labels.append(label_encoded)"
      ],
      "metadata": {
        "id": "5dDm_VdtagpU"
      },
      "execution_count": null,
      "outputs": []
    },
    {
      "cell_type": "code",
      "source": [
        "features"
      ],
      "metadata": {
        "id": "zRr3LL78dDxw"
      },
      "execution_count": null,
      "outputs": []
    },
    {
      "cell_type": "code",
      "source": [
        "labels"
      ],
      "metadata": {
        "id": "8t7PEBcFdIpi"
      },
      "execution_count": null,
      "outputs": []
    },
    {
      "cell_type": "code",
      "source": [
        "features_array = np.array(features)\n",
        "labels_array=np.array(labels)\n",
        "labels_one_hot = pd.get_dummies(labels_array)"
      ],
      "metadata": {
        "id": "IslHEwuUdLGR"
      },
      "execution_count": null,
      "outputs": []
    },
    {
      "cell_type": "code",
      "source": [
        "labels_one_hot"
      ],
      "metadata": {
        "id": "V7E0ImjldkjT"
      },
      "execution_count": null,
      "outputs": []
    },
    {
      "cell_type": "code",
      "source": [
        "from sklearn.model_selection import train_test_split"
      ],
      "metadata": {
        "id": "AB4qbhncdqR6"
      },
      "execution_count": null,
      "outputs": []
    },
    {
      "cell_type": "code",
      "source": [
        "X_train,X_test,y_train,y_test=train_test_split(features_array,labels_one_hot,test_size=0.2,random_state=42)\n",
        "X_train,X_val,y_train,y_val=train_test_split(X_train,y_train,test_size=0.25,random_state=1)"
      ],
      "metadata": {
        "id": "nGfTofLtdziR"
      },
      "execution_count": null,
      "outputs": []
    },
    {
      "cell_type": "code",
      "source": [
        "from tensorflow.keras import layers,Input,Model\n",
        "from tensorflow.keras.models import Sequential\n",
        "from tensorflow.keras.applications import ResNet50\n",
        "from tensorflow.keras.applications.resnet50 import preprocess_input as pp_i\n",
        "from tensorflow.keras.layers import RandomFlip,RandomRotation,Dense,Dropout\n",
        "from tensorflow.keras.losses import CategoricalCrossentropy\n",
        "from tensorflow.keras.optimizers import Adam"
      ],
      "metadata": {
        "id": "W91fUSamg2cQ"
      },
      "execution_count": null,
      "outputs": []
    },
    {
      "cell_type": "code",
      "source": [
        "data_augmentation=Sequential([RandomFlip(\"horizontal_and_vertical\"),RandomRotation(0.2)])"
      ],
      "metadata": {
        "id": "cLGcbto9iQ_o"
      },
      "execution_count": null,
      "outputs": []
    },
    {
      "cell_type": "code",
      "source": [
        "prediction_layer=Dense(16,activation='softmax')"
      ],
      "metadata": {
        "id": "gxPXZSbsjkq-"
      },
      "execution_count": null,
      "outputs": []
    },
    {
      "cell_type": "code",
      "source": [
        "resnet_model=ResNet50(include_top=False,pooling='avg',weights='imagenet')\n",
        "resnet_model.trai"
      ],
      "metadata": {
        "id": "kvP4EOZdkIcm"
      },
      "execution_count": null,
      "outputs": []
    },
    {
      "cell_type": "code",
      "source": [
        "resnet_model.trainable=False\n",
        "inputs=Input(shape=(224,224,3))\n",
        "x=data_augmentation(inputs)\n",
        "x=pp_i(x)\n",
        "x=resnet_model(x,training=False)\n",
        "x=Dropout(0.2)(x)\n",
        "outputs=prediction_layer(x)\n",
        "model=Model(inputs,outputs)"
      ],
      "metadata": {
        "id": "tH9O5a2zkaSf"
      },
      "execution_count": null,
      "outputs": []
    },
    {
      "cell_type": "code",
      "source": [
        "model.compile(optimizer=Adam(),loss=CategoricalCrossentropy(),metrics=['accuracy'])"
      ],
      "metadata": {
        "id": "V7ltG_rdmxYU"
      },
      "execution_count": null,
      "outputs": []
    },
    {
      "cell_type": "code",
      "source": [
        "model_history = model.fit(x=X_train,y=y_train,validation_data=(X_val,y_val),epochs=10)"
      ],
      "metadata": {
        "id": "utih1_pXnuQe",
        "colab": {
          "base_uri": "https://localhost:8080/"
        },
        "outputId": "a0da3124-08ed-42b4-9b0d-4404eed0c2a8"
      },
      "execution_count": null,
      "outputs": [
        {
          "output_type": "stream",
          "name": "stdout",
          "text": [
            "Epoch 1/10\n",
            "60/60 [==============================] - 547s 9s/step - loss: 1.6803 - accuracy: 0.4875 - val_loss: 0.6359 - val_accuracy: 0.8062\n",
            "Epoch 2/10\n",
            "60/60 [==============================] - 549s 9s/step - loss: 0.7668 - accuracy: 0.7531 - val_loss: 0.3804 - val_accuracy: 0.8875\n",
            "Epoch 3/10\n",
            "60/60 [==============================] - 552s 9s/step - loss: 0.6072 - accuracy: 0.8047 - val_loss: 0.3154 - val_accuracy: 0.9000\n",
            "Epoch 4/10\n",
            "60/60 [==============================] - 547s 9s/step - loss: 0.4914 - accuracy: 0.8432 - val_loss: 0.2923 - val_accuracy: 0.9047\n",
            "Epoch 5/10\n",
            "60/60 [==============================] - 542s 9s/step - loss: 0.4392 - accuracy: 0.8521 - val_loss: 0.2700 - val_accuracy: 0.9078\n",
            "Epoch 6/10\n",
            "60/60 [==============================] - 541s 9s/step - loss: 0.3954 - accuracy: 0.8667 - val_loss: 0.2511 - val_accuracy: 0.9109\n",
            "Epoch 7/10\n",
            "60/60 [==============================] - 545s 9s/step - loss: 0.3654 - accuracy: 0.8786 - val_loss: 0.2765 - val_accuracy: 0.9109\n",
            "Epoch 8/10\n",
            "60/60 [==============================] - 543s 9s/step - loss: 0.3471 - accuracy: 0.8875 - val_loss: 0.2428 - val_accuracy: 0.9187\n",
            "Epoch 9/10\n",
            "60/60 [==============================] - 539s 9s/step - loss: 0.2944 - accuracy: 0.8990 - val_loss: 0.2569 - val_accuracy: 0.9094\n",
            "Epoch 10/10\n",
            "60/60 [==============================] - 525s 9s/step - loss: 0.3020 - accuracy: 0.8995 - val_loss: 0.2430 - val_accuracy: 0.9187\n"
          ]
        }
      ]
    },
    {
      "cell_type": "code",
      "source": [
        "acc = model_history.history['accuracy']\n",
        "val_acc=model_history.history['val_accuracy']\n",
        "loss= model_history.history['loss']\n",
        "val_loss=model_history.history['val_loss']"
      ],
      "metadata": {
        "id": "NgT-HAsroNHs"
      },
      "execution_count": null,
      "outputs": []
    },
    {
      "cell_type": "code",
      "source": [
        "epochs_range=range(10)"
      ],
      "metadata": {
        "id": "Ip7YhhyHpBOD"
      },
      "execution_count": null,
      "outputs": []
    },
    {
      "cell_type": "code",
      "source": [
        "plt.figure(figsize=(15,8))\n",
        "plt.subplot(1,2,1)\n",
        "plt.plot(epochs_range,acc,label='training accuracy')\n",
        "plt.plot(epochs_range,val_acc,label='Validation accuracy')\n",
        "plt.legend(loc='lower right')\n",
        "plt.title(\"Training and Validation Accuracy\")\n",
        "\n",
        "plt.figure(figsize=(15,8))\n",
        "plt.subplot(1,2,2)\n",
        "plt.plot(epochs_range,loss,label='training loss')\n",
        "plt.plot(epochs_range,val_loss,label='Validation loss')\n",
        "plt.legend(loc='upper right')\n",
        "plt.title(\"Training and Validation loss\")"
      ],
      "metadata": {
        "id": "hyiqyPCFpIFy",
        "colab": {
          "base_uri": "https://localhost:8080/",
          "height": 1000
        },
        "outputId": "065594f2-1abe-47b5-8916-f8f75f6a816a"
      },
      "execution_count": null,
      "outputs": [
        {
          "output_type": "execute_result",
          "data": {
            "text/plain": [
              "Text(0.5, 1.0, 'Training and Validation loss')"
            ]
          },
          "metadata": {},
          "execution_count": 60
        },
        {
          "output_type": "display_data",
          "data": {
            "text/plain": [
              "<Figure size 1500x800 with 1 Axes>"
            ],
            "image/png": "[encoded data removed]"
          },
          "metadata": {}
        },
        {
          "output_type": "display_data",
          "data": {
            "text/plain": [
              "<Figure size 1500x800 with 1 Axes>"
            ],
            "image/png": "[encoded data removed]"
          },
          "metadata": {}
        }
      ]
    },
    {
      "cell_type": "code",
      "source": [
        "model.evaluate(x_test,y_test)"
      ],
      "metadata": {
        "id": "QRWBGjEcqD1T",
        "colab": {
          "base_uri": "https://localhost:8080/"
        },
        "outputId": "1daa16da-3c52-41c0-f0f8-25a08c29f97c"
      },
      "execution_count": null,
      "outputs": [
        {
          "output_type": "stream",
          "name": "stdout",
          "text": [
            "20/20 [==============================] - 131s 6s/step - loss: 0.2732 - accuracy: 0.9125\n"
          ]
        },
        {
          "output_type": "execute_result",
          "data": {
            "text/plain": [
              "[0.2732393145561218, 0.9125000238418579]"
            ]
          },
          "metadata": {},
          "execution_count": 61
        }
      ]
    },
    {
      "cell_type": "code",
      "source": [
        "y_pred=model.predict(x_test)"
      ],
      "metadata": {
        "id": "gFJ2OT9uqJAi",
        "colab": {
          "base_uri": "https://localhost:8080/"
        },
        "outputId": "30c76677-4ead-4f9f-feb5-3b57e7f7f1bd"
      },
      "execution_count": null,
      "outputs": [
        {
          "output_type": "stream",
          "name": "stdout",
          "text": [
            "20/20 [==============================] - 128s 6s/step\n"
          ]
        }
      ]
    },
    {
      "cell_type": "code",
      "source": [
        "y_pred"
      ],
      "metadata": {
        "id": "msqke7gRqOKa",
        "colab": {
          "base_uri": "https://localhost:8080/"
        },
        "outputId": "3d911689-6094-457e-f0d0-83f23b0009e0"
      },
      "execution_count": null,
      "outputs": [
        {
          "output_type": "execute_result",
          "data": {
            "text/plain": [
              "array([[7.3583368e-07, 2.0215716e-03, 3.4392453e-04, ..., 1.3667011e-01,\n",
              "        2.5594706e-04, 1.2782436e-02],\n",
              "       [9.5429277e-07, 8.4020710e-04, 4.2657335e-05, ..., 2.7363500e-01,\n",
              "        1.6443528e-02, 1.0193019e-04],\n",
              "       [5.4152883e-03, 2.0559586e-03, 2.2787323e-02, ..., 2.5740040e-03,\n",
              "        2.5757216e-02, 4.4657279e-02],\n",
              "       ...,\n",
              "       [4.6312163e-08, 1.4638535e-07, 2.1327115e-07, ..., 6.8086585e-05,\n",
              "        4.4555705e-02, 1.1171119e-07],\n",
              "       [3.9566427e-08, 1.6118610e-08, 3.6511338e-07, ..., 4.6112862e-07,\n",
              "        7.6321550e-05, 3.0717747e-06],\n",
              "       [3.5549624e-07, 1.4804443e-05, 8.7149265e-06, ..., 3.2598862e-06,\n",
              "        1.7622636e-04, 3.6410800e-06]], dtype=float32)"
            ]
          },
          "metadata": {},
          "execution_count": 63
        }
      ]
    }
  ]
}